{
  "nbformat": 4,
  "nbformat_minor": 0,
  "metadata": {
    "colab": {
      "name": "euclidean",
      "version": "0.3.2",
      "provenance": [],
      "collapsed_sections": []
    },
    "kernelspec": {
      "name": "python3",
      "display_name": "Python 3"
    }
  },
  "cells": [
    {
      "metadata": {
        "id": "6m1RKsz7T9hn",
        "colab_type": "code",
        "colab": {}
      },
      "cell_type": "code",
      "source": [
        "from math import sqrt\n",
        "import random\n",
        "import numpy as np\n",
        "import pandas as pd\n",
        "import itertools\n",
        "import csv"
      ],
      "execution_count": 0,
      "outputs": []
    },
    {
      "metadata": {
        "id": "-jh-WHVsUAKo",
        "colab_type": "code",
        "outputId": "0fd5ae02-5074-4f58-c02e-6ef797d5f88d",
        "colab": {
          "resources": {
            "http://localhost:8080/nbextensions/google.colab/files.js": {
              "data": "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",
              "ok": true,
              "headers": [
                [
                  "content-type",
                  "application/javascript"
                ]
              ],
              "status": 200,
              "status_text": ""
            }
          },
          "base_uri": "https://localhost:8080/",
          "height": 75
        }
      },
      "cell_type": "code",
      "source": [
        "from google.colab import files\n",
        "uploaded=files.upload()"
      ],
      "execution_count": 9,
      "outputs": [
        {
          "output_type": "display_data",
          "data": {
            "text/html": [
              "\n",
              "     <input type=\"file\" id=\"files-5c59f300-e66d-4e40-9a26-7a7d4612c9f4\" name=\"files[]\" multiple disabled />\n",
              "     <output id=\"result-5c59f300-e66d-4e40-9a26-7a7d4612c9f4\">\n",
              "      Upload widget is only available when the cell has been executed in the\n",
              "      current browser session. Please rerun this cell to enable.\n",
              "      </output>\n",
              "      <script src=\"/nbextensions/google.colab/files.js\"></script> "
            ],
            "text/plain": [
              "<IPython.core.display.HTML object>"
            ]
          },
          "metadata": {
            "tags": []
          }
        },
        {
          "output_type": "stream",
          "text": [
            "Saving rating.csv to rating.csv\n"
          ],
          "name": "stdout"
        }
      ]
    },
    {
      "metadata": {
        "id": "79QabucjUORG",
        "colab_type": "code",
        "colab": {}
      },
      "cell_type": "code",
      "source": [
        "user_rating=[]\n",
        "for i in range(1,5):\n",
        "  user= random.randint(0,5)\n",
        "  user_rating.append(user)"
      ],
      "execution_count": 0,
      "outputs": []
    },
    {
      "metadata": {
        "id": "CxkgEa4LaWqq",
        "colab_type": "code",
        "colab": {
          "base_uri": "https://localhost:8080/",
          "height": 35
        },
        "outputId": "ebc6398f-e475-4dce-c08a-361c2f4bfead"
      },
      "cell_type": "code",
      "source": [
        "print(user_rating)"
      ],
      "execution_count": 31,
      "outputs": [
        {
          "output_type": "stream",
          "text": [
            "[4, 1, 2, 5]\n"
          ],
          "name": "stdout"
        }
      ]
    },
    {
      "metadata": {
        "id": "UVSi0phAZjSk",
        "colab_type": "code",
        "colab": {}
      },
      "cell_type": "code",
      "source": [
        "f = open('rating.csv')\n",
        "csv_f = csv.reader(f)\n",
        "price=[]\n",
        "location=[]\n",
        "mode_of_sharing=[]\n",
        "flat_type=[]"
      ],
      "execution_count": 0,
      "outputs": []
    },
    {
      "metadata": {
        "id": "SYLdlY_zajr_",
        "colab_type": "code",
        "colab": {
          "base_uri": "https://localhost:8080/",
          "height": 107
        },
        "outputId": "b8e7f75a-a497-479c-d737-55e8b2026240"
      },
      "cell_type": "code",
      "source": [
        "\n",
        "for column in csv_f:\n",
        "  price.append(column[1])\n",
        "  location.append(column[2])\n",
        "  mode_of_sharing.append(column[3])\n",
        "  flat_type.append(column[4])\n",
        "  \n",
        "print(price)\n",
        "print(location)\n",
        "print(mode_of_sharing)\n",
        "print(flat_type)\n",
        "  \n",
        "  "
      ],
      "execution_count": 33,
      "outputs": [
        {
          "output_type": "stream",
          "text": [
            "['Price', '0', '4', '4', '3', '2', '3', '2', '3', '3', '0', '1', '2', '3', '0', '5', '0', '1', '3', '4', '4', '4', '3', '1', '4', '0', '4', '1', '3', '4', '3', '0', '3', '0', '4', '0', '0', '0', '1', '3', '5', '0', '3', '3', '2', '0', '0', '1', '4', '1', '3', '1', '3', '0', '3', '1', '2', '4', '4', '3', '5', '1', '1', '5', '3', '5', '1', '0', '5', '3', '0', '3', '2', '2', '0', '5', '2', '5', '0', '0', '3', '1', '3', '3', '3', '5', '4', '2', '5', '0', '3', '1', '3', '0', '1', '5', '1', '2', '5', '1', '2']\n",
            "['Location', '5', '4', '4', '5', '4', '3', '1', '1', '4', '0', '0', '1', '1', '1', '1', '5', '3', '4', '5', '0', '2', '1', '0', '4', '0', '2', '5', '0', '5', '3', '0', '1', '5', '3', '5', '2', '5', '4', '2', '5', '3', '1', '5', '1', '0', '4', '5', '0', '1', '1', '4', '0', '0', '2', '5', '2', '5', '3', '5', '2', '4', '5', '0', '0', '4', '5', '3', '2', '2', '3', '1', '1', '1', '3', '2', '0', '1', '0', '2', '3', '0', '2', '1', '4', '4', '3', '1', '0', '4', '1', '4', '1', '5', '5', '4', '2', '4', '0', '5', '1']\n",
            "['Mode_of_Sharing', '3', '4', '5', '5', '4', '2', '1', '3', '1', '3', '4', '0', '2', '1', '3', '1', '5', '4', '4', '4', '0', '3', '4', '5', '2', '5', '0', '2', '5', '3', '2', '1', '1', '1', '0', '1', '0', '4', '2', '0', '5', '2', '0', '3', '0', '1', '0', '0', '0', '1', '4', '3', '2', '5', '2', '3', '1', '0', '5', '1', '4', '4', '4', '3', '0', '2', '4', '2', '1', '0', '1', '3', '3', '4', '4', '1', '2', '5', '3', '0', '2', '2', '5', '3', '3', '4', '5', '0', '5', '0', '4', '0', '0', '5', '2', '4', '0', '4', '4', '3']\n",
            "['Flat_type', '3', '4', '1', '4', '4', '3', '0', '4', '1', '1', '1', '0', '1', '3', '4', '5', '0', '5', '3', '3', '0', '1', '4', '1', '4', '3', '1', '5', '4', '0', '5', '5', '3', '4', '2', '3', '0', '4', '0', '5', '5', '5', '5', '2', '2', '0', '2', '2', '3', '5', '4', '1', '4', '5', '0', '2', '0', '4', '5', '4', '5', '3', '3', '1', '2', '2', '5', '1', '5', '1', '1', '4', '3', '1', '5', '4', '3', '2', '5', '0', '0', '0', '2', '4', '5', '2', '2', '0', '3', '0', '5', '3', '4', '4', '5', '2', '1', '5', '4', '2']\n"
          ],
          "name": "stdout"
        }
      ]
    },
    {
      "metadata": {
        "id": "veEdYdFEavQP",
        "colab_type": "code",
        "colab": {}
      },
      "cell_type": "code",
      "source": [
        "price.remove('Price')\n",
        "location.remove('Location')\n",
        "mode_of_sharing.remove('Mode_of_Sharing')\n",
        "flat_type.remove('Flat_type')\n"
      ],
      "execution_count": 0,
      "outputs": []
    },
    {
      "metadata": {
        "id": "ZeI3wYxochYa",
        "colab_type": "code",
        "colab": {}
      },
      "cell_type": "code",
      "source": [
        "existing_user=[]\n",
        "for i in range(0,100):\n",
        "  existing_user.append([price[i],location[i],mode_of_sharing[i],flat_type[i]])\n"
      ],
      "execution_count": 0,
      "outputs": []
    },
    {
      "metadata": {
        "id": "5CSJl_sizXCl",
        "colab_type": "code",
        "colab": {
          "base_uri": "https://localhost:8080/",
          "height": 55
        },
        "outputId": "6b38a25f-2a90-4cd8-b577-231402ed1181"
      },
      "cell_type": "code",
      "source": [
        "print(existing_user)"
      ],
      "execution_count": 36,
      "outputs": [
        {
          "output_type": "stream",
          "text": [
            "[['0', '5', '3', '3'], ['4', '4', '4', '4'], ['4', '4', '5', '1'], ['3', '5', '5', '4'], ['2', '4', '4', '4'], ['3', '3', '2', '3'], ['2', '1', '1', '0'], ['3', '1', '3', '4'], ['3', '4', '1', '1'], ['0', '0', '3', '1'], ['1', '0', '4', '1'], ['2', '1', '0', '0'], ['3', '1', '2', '1'], ['0', '1', '1', '3'], ['5', '1', '3', '4'], ['0', '5', '1', '5'], ['1', '3', '5', '0'], ['3', '4', '4', '5'], ['4', '5', '4', '3'], ['4', '0', '4', '3'], ['4', '2', '0', '0'], ['3', '1', '3', '1'], ['1', '0', '4', '4'], ['4', '4', '5', '1'], ['0', '0', '2', '4'], ['4', '2', '5', '3'], ['1', '5', '0', '1'], ['3', '0', '2', '5'], ['4', '5', '5', '4'], ['3', '3', '3', '0'], ['0', '0', '2', '5'], ['3', '1', '1', '5'], ['0', '5', '1', '3'], ['4', '3', '1', '4'], ['0', '5', '0', '2'], ['0', '2', '1', '3'], ['0', '5', '0', '0'], ['1', '4', '4', '4'], ['3', '2', '2', '0'], ['5', '5', '0', '5'], ['0', '3', '5', '5'], ['3', '1', '2', '5'], ['3', '5', '0', '5'], ['2', '1', '3', '2'], ['0', '0', '0', '2'], ['0', '4', '1', '0'], ['1', '5', '0', '2'], ['4', '0', '0', '2'], ['1', '1', '0', '3'], ['3', '1', '1', '5'], ['1', '4', '4', '4'], ['3', '0', '3', '1'], ['0', '0', '2', '4'], ['3', '2', '5', '5'], ['1', '5', '2', '0'], ['2', '2', '3', '2'], ['4', '5', '1', '0'], ['4', '3', '0', '4'], ['3', '5', '5', '5'], ['5', '2', '1', '4'], ['1', '4', '4', '5'], ['1', '5', '4', '3'], ['5', '0', '4', '3'], ['3', '0', '3', '1'], ['5', '4', '0', '2'], ['1', '5', '2', '2'], ['0', '3', '4', '5'], ['5', '2', '2', '1'], ['3', '2', '1', '5'], ['0', '3', '0', '1'], ['3', '1', '1', '1'], ['2', '1', '3', '4'], ['2', '1', '3', '3'], ['0', '3', '4', '1'], ['5', '2', '4', '5'], ['2', '0', '1', '4'], ['5', '1', '2', '3'], ['0', '0', '5', '2'], ['0', '2', '3', '5'], ['3', '3', '0', '0'], ['1', '0', '2', '0'], ['3', '2', '2', '0'], ['3', '1', '5', '2'], ['3', '4', '3', '4'], ['5', '4', '3', '5'], ['4', '3', '4', '2'], ['2', '1', '5', '2'], ['5', '0', '0', '0'], ['0', '4', '5', '3'], ['3', '1', '0', '0'], ['1', '4', '4', '5'], ['3', '1', '0', '3'], ['0', '5', '0', '4'], ['1', '5', '5', '4'], ['5', '4', '2', '5'], ['1', '2', '4', '2'], ['2', '4', '0', '1'], ['5', '0', '4', '5'], ['1', '5', '4', '4'], ['2', '1', '3', '2']]\n"
          ],
          "name": "stdout"
        }
      ]
    },
    {
      "metadata": {
        "id": "2lHaNgDheTJ1",
        "colab_type": "code",
        "colab": {}
      },
      "cell_type": "code",
      "source": [
        "euclidean_dist=[]\n",
        "user_id=[]\n",
        "for idx,val in enumerate(existing_user):\n",
        "  dist = np.linalg.norm(np.array(pd.to_numeric(existing_user[idx]))- np.array(pd.to_numeric(user_rating)))\n",
        "  euclidean_dist.append(dist)\n",
        "  user_id.append(idx)\n",
        "\n",
        "  "
      ],
      "execution_count": 0,
      "outputs": []
    },
    {
      "metadata": {
        "id": "zlpbgp4PjDmb",
        "colab_type": "code",
        "colab": {
          "base_uri": "https://localhost:8080/",
          "height": 55
        },
        "outputId": "d991a101-b43c-4d6e-f8e7-3a2240bd4b8c"
      },
      "cell_type": "code",
      "source": [
        "print(euclidean_dist)"
      ],
      "execution_count": 46,
      "outputs": [
        {
          "output_type": "stream",
          "text": [
            "[6.082762530298219, 3.7416573867739413, 5.830951894845301, 5.196152422706632, 4.242640687119285, 3.0, 5.477225575051661, 1.7320508075688772, 5.196152422706632, 5.830951894845301, 5.477225575051661, 5.744562646538029, 4.123105625617661, 4.58257569495584, 1.7320508075688772, 5.744562646538029, 6.855654600401044, 3.7416573867739413, 4.898979485566356, 3.0, 5.477225575051661, 4.242640687119285, 3.872983346207417, 5.830951894845301, 4.242640687119285, 3.7416573867739413, 6.708203932499369, 1.4142135623730951, 5.0990195135927845, 5.5677643628300215, 4.123105625617661, 1.4142135623730951, 6.082762530298219, 2.449489742783178, 6.708203932499369, 4.69041575982343, 7.810249675906654, 4.795831523312719, 5.196152422706632, 4.58257569495584, 5.385164807134504, 1.0, 4.58257569495584, 3.7416573867739413, 5.477225575051661, 7.14142842854285, 6.164414002968976, 3.7416573867739413, 4.123105625617661, 1.4142135623730951, 4.795831523312719, 4.358898943540674, 4.242640687119285, 3.3166247903554, 7.0710678118654755, 3.872983346207417, 6.48074069840786, 3.0, 5.0990195135927845, 2.0, 4.69041575982343, 5.744562646538029, 3.1622776601683795, 4.358898943540674, 4.795831523312719, 5.830951894845301, 4.898979485566356, 4.242640687119285, 1.7320508075688772, 6.324555320336759, 4.242640687119285, 2.449489742783178, 3.0, 6.324555320336759, 2.449489742783178, 2.6457513110645907, 2.23606797749979, 5.916079783099616, 4.242640687119285, 5.830951894845301, 5.916079783099616, 5.196152422706632, 4.358898943540674, 3.4641016151377544, 3.3166247903554, 4.123105625617661, 4.69041575982343, 5.5677643628300215, 6.164414002968976, 5.477225575051661, 4.69041575982343, 3.0, 6.082762530298219, 5.916079783099616, 3.1622776601683795, 4.795831523312719, 5.744562646538029, 2.449489742783178, 5.477225575051661, 3.7416573867739413]\n"
          ],
          "name": "stdout"
        }
      ]
    },
    {
      "metadata": {
        "id": "JVh6Hmt6GyW_",
        "colab_type": "code",
        "colab": {}
      },
      "cell_type": "code",
      "source": [
        "counter=0\n",
        "sum=0\n",
        "for i in euclidean_dist:\n",
        "  sum=sum+i\n",
        "  counter= counter+1\n"
      ],
      "execution_count": 0,
      "outputs": []
    },
    {
      "metadata": {
        "id": "GecyGzfHHEW6",
        "colab_type": "code",
        "colab": {}
      },
      "cell_type": "code",
      "source": [
        "mean=sum/counter"
      ],
      "execution_count": 0,
      "outputs": []
    },
    {
      "metadata": {
        "id": "T3FsD25vHLhb",
        "colab_type": "code",
        "colab": {
          "base_uri": "https://localhost:8080/",
          "height": 35
        },
        "outputId": "9ae98051-ea88-4691-a362-3c2ec6c5f55b"
      },
      "cell_type": "code",
      "source": [
        "print(mean)"
      ],
      "execution_count": 50,
      "outputs": [
        {
          "output_type": "stream",
          "text": [
            "4.517443886586622\n"
          ],
          "name": "stdout"
        }
      ]
    },
    {
      "metadata": {
        "id": "WcGchnKuHMjn",
        "colab_type": "code",
        "colab": {}
      },
      "cell_type": "code",
      "source": [
        "similar_user=[]\n",
        "user_idx=0\n",
        "for dist in euclidean_dist:\n",
        "  user_idx=user_idx+1\n",
        "  if(dist<mean):\n",
        "    similar_user.append(user_idx)\n"
      ],
      "execution_count": 0,
      "outputs": []
    },
    {
      "metadata": {
        "id": "1MlmFY_nHQ_s",
        "colab_type": "code",
        "colab": {
          "base_uri": "https://localhost:8080/",
          "height": 55
        },
        "outputId": "6f6d1009-73f9-4100-f895-9d13798db76f"
      },
      "cell_type": "code",
      "source": [
        "print(similar_user)"
      ],
      "execution_count": 57,
      "outputs": [
        {
          "output_type": "stream",
          "text": [
            "[2, 5, 6, 8, 13, 15, 18, 20, 22, 23, 25, 26, 28, 31, 32, 34, 42, 44, 48, 49, 50, 52, 53, 54, 56, 58, 60, 63, 64, 68, 69, 71, 72, 73, 75, 76, 77, 79, 83, 84, 85, 86, 92, 95, 98, 100]\n"
          ],
          "name": "stdout"
        }
      ]
    },
    {
      "metadata": {
        "id": "FJi6cfzgHuAm",
        "colab_type": "code",
        "colab": {}
      },
      "cell_type": "code",
      "source": [
        ""
      ],
      "execution_count": 0,
      "outputs": []
    }
  ]
}