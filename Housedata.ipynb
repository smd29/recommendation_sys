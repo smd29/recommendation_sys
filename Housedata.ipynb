{
  "nbformat": 4,
  "nbformat_minor": 0,
  "metadata": {
    "colab": {
      "name": "Housedata.ipynb",
      "version": "0.3.2",
      "provenance": [],
      "collapsed_sections": []
    },
    "kernelspec": {
      "name": "python3",
      "display_name": "Python 3"
    }
  },
  "cells": [
    {
      "metadata": {
        "id": "qvjNZB2BEq85",
        "colab_type": "code",
        "colab": {}
      },
      "cell_type": "code",
      "source": [
        "import csv\n",
        "import random"
      ],
      "execution_count": 0,
      "outputs": []
    },
    {
      "metadata": {
        "id": "c3b9St-REubT",
        "colab_type": "code",
        "colab": {}
      },
      "cell_type": "code",
      "source": [
        "\n",
        "\n",
        "#specifying the types of flat available\n",
        "type=['furnished','semifurnished','unfurnished']\n",
        "\n",
        "#specifying the locations where available\n",
        "location = ['Amanora Park Town','Magarpatta City','Hadapsar','Mundhwa']\n",
        "\n",
        "#specifying the size of\n",
        "size=['1BHK','2BHK','3BHK']\n",
        "\n",
        "#headers\n",
        "headers=['user','Location','price', 'size','type']\n",
        "with open('housedata.csv','w', newline='') as f:\n",
        "  \n",
        "  #creating the csv file\n",
        "  \n",
        "  thewriter=csv.DictWriter(f, fieldnames=headers)\n",
        "  thewriter.writeheader()\n",
        "  for i in range(1,101):\n",
        "     thewriter.writerow({'user': i,'Location':random.choice(location),'price':random.randint(1000000,10000000),'size':random.choice(size),'type':random.choice(type)})\n",
        "    \n",
        " \n",
        "  \n",
        "  \n",
        "  \n",
        " "
      ],
      "execution_count": 0,
      "outputs": []
    },
    {
      "metadata": {
        "id": "Pt3EojLyHYp0",
        "colab_type": "code",
        "colab": {}
      },
      "cell_type": "code",
      "source": [
        ""
      ],
      "execution_count": 0,
      "outputs": []
    },
    {
      "metadata": {
        "id": "MfOkgblCHYpB",
        "colab_type": "code",
        "colab": {}
      },
      "cell_type": "code",
      "source": [
        ""
      ],
      "execution_count": 0,
      "outputs": []
    },
    {
      "metadata": {
        "id": "WAq3EeQLFDM7",
        "colab_type": "code",
        "colab": {}
      },
      "cell_type": "code",
      "source": [
        ""
      ],
      "execution_count": 0,
      "outputs": []
    }
  ]
}
