{
  "nbformat": 4,
  "nbformat_minor": 0,
  "metadata": {
    "colab": {
      "name": "Random_user.ipynb",
      "version": "0.3.2",
      "provenance": [],
      "collapsed_sections": []
    },
    "kernelspec": {
      "name": "python3",
      "display_name": "Python 3"
    }
  },
  "cells": [
    {
      "metadata": {
        "id": "Src01-5SeuNd",
        "colab_type": "code",
        "colab": {}
      },
      "cell_type": "code",
      "source": [
        "import pandas as pd\n",
        "import numpy as np\n",
        "import random\n",
        "import csv\n"
      ],
      "execution_count": 0,
      "outputs": []
    },
    {
      "metadata": {
        "id": "ZHRBaZAyfAUJ",
        "colab_type": "code",
        "outputId": "b4344f6b-d5a1-4159-b69b-3200a6c117d3",
        "colab": {
          "resources": {
            "http://localhost:8080/nbextensions/google.colab/files.js": {
              "data": "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",
              "ok": true,
              "headers": [
                [
                  "content-type",
                  "application/javascript"
                ]
              ],
              "status": 200,
              "status_text": ""
            }
          },
          "base_uri": "https://localhost:8080/",
          "height": 91
        }
      },
      "cell_type": "code",
      "source": [
        "from google.colab import files\n",
        "uploaded=files.upload()"
      ],
      "execution_count": 0,
      "outputs": [
        {
          "output_type": "display_data",
          "data": {
            "text/html": [
              "\n",
              "     <input type=\"file\" id=\"files-d728d51b-f593-49e6-8769-ff1ed5aa71b2\" name=\"files[]\" multiple disabled />\n",
              "     <output id=\"result-d728d51b-f593-49e6-8769-ff1ed5aa71b2\">\n",
              "      Upload widget is only available when the cell has been executed in the\n",
              "      current browser session. Please rerun this cell to enable.\n",
              "      </output>\n",
              "      <script src=\"/nbextensions/google.colab/files.js\"></script> "
            ],
            "text/plain": [
              "<IPython.core.display.HTML object>"
            ]
          },
          "metadata": {
            "tags": []
          }
        },
        {
          "output_type": "stream",
          "text": [
            "Saving housing.csv to housing.csv\n"
          ],
          "name": "stdout"
        }
      ]
    },
    {
      "metadata": {
        "id": "ItIONl6JfEH5",
        "colab_type": "code",
        "colab": {}
      },
      "cell_type": "code",
      "source": [
        "f = open('housing.csv')\n",
        "csv_f = csv.reader(f)\n",
        "price=[]\n",
        "location=[]\n",
        "type=[]\n",
        "size=[]\n",
        "desc_tennants=[]"
      ],
      "execution_count": 0,
      "outputs": []
    },
    {
      "metadata": {
        "id": "GOmIXYFDfoyD",
        "colab_type": "code",
        "colab": {}
      },
      "cell_type": "code",
      "source": [
        "for column in csv_f:\n",
        "  price.append(column[1])\n",
        "  type.append(column[2])\n",
        "  desc_tennants.append(column[3])\n",
        "  size.append(column[4])\n",
        "  location.append(column[5])\n",
        "  "
      ],
      "execution_count": 0,
      "outputs": []
    },
    {
      "metadata": {
        "id": "lWhR5PwdfzlN",
        "colab_type": "code",
        "colab": {}
      },
      "cell_type": "code",
      "source": [
        "price.remove('Description_Rent')\n",
        "location.remove('Location')\n",
        "type.remove('Description_Furnishing')\n",
        "size.remove('Flat type(BHK)')\n",
        "desc_tennants.remove('Description_Tenants')"
      ],
      "execution_count": 0,
      "outputs": []
    },
    {
      "metadata": {
        "id": "_A6bM5c-f5us",
        "colab_type": "code",
        "outputId": "88a114cb-3272-4931-ae98-942736b43277",
        "colab": {
          "base_uri": "https://localhost:8080/",
          "height": 122
        }
      },
      "cell_type": "code",
      "source": [
        "print(price)\n",
        "print(location)\n",
        "print(type)\n",
        "print(size)\n",
        "print(desc_tennants)"
      ],
      "execution_count": 0,
      "outputs": [
        {
          "output_type": "stream",
          "text": [
            "['70,000', '33,000', '18,000', '1,10,000', '33,000', '25,000', '26,000', '30,000', '75,000', '22,000', '100000', '20,000', '62,000', '22,500', '36,000', '21,000', '16,200', '22,000', '25,000', '21,000', '8,500', '79,900', '35,000', '28,000', '16,000', '1,50,000', '30,000', '90,000', '15,000', '13,500']\n",
            "['Magarpatta City', 'Hadapsar', 'Magarpatta City', 'Magarpatta City', 'Amanora Park Town', 'Amanora Park Town', 'Magarpatta City', 'Magarpatta City', 'Hadapsar', 'Mundhwa', 'Hadapsar', 'Mundhwa', 'Hadapsar', 'Amanora Park Town', 'Amanora Park Town', 'Mundhwa', 'Hadapsar', 'Hadapsar', 'Amanora Park Town', 'Hadapsar', 'Phursungi', 'Hadapsar', 'Hadapsar', 'Hadapsar', 'Mundhwa', 'Magarpatta City', 'Hadapsar', 'Magarpatta City', 'Hadapsar', 'Hadapsar']\n",
            "['Unfurnished', 'Semi-Furnished', 'Semi-Furnished', 'Furnished', 'Unfurnished', 'Unfurnished', 'Unfurnished', 'Furnished', 'Furnished', 'Semi-Furnished', 'Furnished', 'Furnished', 'Furnished', 'Semi-Furnished', 'Furnished', 'Semi-Furnished', 'Unfurnished', 'Unfurnished', 'Semi-Furnished', 'Semi-Furnished', 'Unfurnished', 'Semi-Furnished', 'Furnished', 'Unfurnished', 'Unfurnished', 'Semi-Furnished', 'Semi-Furnished', 'Semi-Furnished', 'Semi-Furnished', 'Unfurnished']\n",
            "['4BHK', '3BHK', '1BHK', '3BHK', '3BHK', '3BHK', '2BHK', '2BHK', '4BHK', '3BHK', '4BHK', '2BHK', '4BHK', '2BHK', '2BHK', '3BHK', '2BHK', '2BHK', '2BHK', '3BHK', '1BHK', '5BHK', '3BHK', '2BHK', '1BHK', '4BHK', '2BHK', '3BHK', '2BHK', '2BHK']\n",
            "['Bachelors/Family', 'Bachelors/Family', 'Bachelors/Family', 'Family', 'Bachelors/Family', 'Family', 'Bachelors/Family', 'Bachelors/Family', 'Bachelors', 'Bachelors/Family', 'Bachelors/Family', 'Family', 'Bachelors', 'Bachelors/Family', 'Bachelors/Family', 'Bachelors', 'Bachelors/Family', 'Bachelors/Family', 'Bachelors', 'Bachelors/Family', 'Family', 'Bachelors/Family', 'Bachelors', 'Bachelors/Family', 'Family', 'Bachelors/Family', 'Bachelors/Family', 'Bachelors', 'Family', 'Bachelors/Family']\n"
          ],
          "name": "stdout"
        }
      ]
    },
    {
      "metadata": {
        "id": "5nkisiLFgAZr",
        "colab_type": "code",
        "colab": {}
      },
      "cell_type": "code",
      "source": [
        "available_choice=[]\n",
        "for i in range(0,30):\n",
        "  available_choice.append([price[i],location[i],type[i],size[i], desc_tennants[i]])"
      ],
      "execution_count": 0,
      "outputs": []
    },
    {
      "metadata": {
        "id": "BfdmzxeEgHy8",
        "colab_type": "code",
        "outputId": "caf6bf6a-cb5d-4039-999f-a304f5abcc19",
        "colab": {
          "base_uri": "https://localhost:8080/",
          "height": 54
        }
      },
      "cell_type": "code",
      "source": [
        "print(available_choice)"
      ],
      "execution_count": 24,
      "outputs": [
        {
          "output_type": "stream",
          "text": [
            "[['70,000', 'Magarpatta City', 'Unfurnished', '4BHK', 'Bachelors/Family'], ['33,000', 'Hadapsar', 'Semi-Furnished', '3BHK', 'Bachelors/Family'], ['18,000', 'Magarpatta City', 'Semi-Furnished', '1BHK', 'Bachelors/Family'], ['1,10,000', 'Magarpatta City', 'Furnished', '3BHK', 'Family'], ['33,000', 'Amanora Park Town', 'Unfurnished', '3BHK', 'Bachelors/Family'], ['25,000', 'Amanora Park Town', 'Unfurnished', '3BHK', 'Family'], ['26,000', 'Magarpatta City', 'Unfurnished', '2BHK', 'Bachelors/Family'], ['30,000', 'Magarpatta City', 'Furnished', '2BHK', 'Bachelors/Family'], ['75,000', 'Hadapsar', 'Furnished', '4BHK', 'Bachelors'], ['22,000', 'Mundhwa', 'Semi-Furnished', '3BHK', 'Bachelors/Family'], ['100000', 'Hadapsar', 'Furnished', '4BHK', 'Bachelors/Family'], ['20,000', 'Mundhwa', 'Furnished', '2BHK', 'Family'], ['62,000', 'Hadapsar', 'Furnished', '4BHK', 'Bachelors'], ['22,500', 'Amanora Park Town', 'Semi-Furnished', '2BHK', 'Bachelors/Family'], ['36,000', 'Amanora Park Town', 'Furnished', '2BHK', 'Bachelors/Family'], ['21,000', 'Mundhwa', 'Semi-Furnished', '3BHK', 'Bachelors'], ['16,200', 'Hadapsar', 'Unfurnished', '2BHK', 'Bachelors/Family'], ['22,000', 'Hadapsar', 'Unfurnished', '2BHK', 'Bachelors/Family'], ['25,000', 'Amanora Park Town', 'Semi-Furnished', '2BHK', 'Bachelors'], ['21,000', 'Hadapsar', 'Semi-Furnished', '3BHK', 'Bachelors/Family'], ['8,500', 'Phursungi', 'Unfurnished', '1BHK', 'Family'], ['79,900', 'Hadapsar', 'Semi-Furnished', '5BHK', 'Bachelors/Family'], ['35,000', 'Hadapsar', 'Furnished', '3BHK', 'Bachelors'], ['28,000', 'Hadapsar', 'Unfurnished', '2BHK', 'Bachelors/Family'], ['16,000', 'Mundhwa', 'Unfurnished', '1BHK', 'Family'], ['1,50,000', 'Magarpatta City', 'Semi-Furnished', '4BHK', 'Bachelors/Family'], ['30,000', 'Hadapsar', 'Semi-Furnished', '2BHK', 'Bachelors/Family'], ['90,000', 'Magarpatta City', 'Semi-Furnished', '3BHK', 'Bachelors'], ['15,000', 'Hadapsar', 'Semi-Furnished', '2BHK', 'Family'], ['13,500', 'Hadapsar', 'Unfurnished', '2BHK', 'Bachelors/Family']]\n"
          ],
          "name": "stdout"
        }
      ]
    },
    {
      "metadata": {
        "id": "UjYvyQNlgOCJ",
        "colab_type": "code",
        "colab": {}
      },
      "cell_type": "code",
      "source": [
        "ratings=[np.random.randint(1,5),np.random.randint(1,5),np.random.randint(1,5),np.random.randint(1,5)]"
      ],
      "execution_count": 0,
      "outputs": []
    },
    {
      "metadata": {
        "id": "LwxD3jPUg8M4",
        "colab_type": "code",
        "outputId": "c2820576-6807-459a-fc80-b0c36de8b0bd",
        "colab": {
          "base_uri": "https://localhost:8080/",
          "height": 34
        }
      },
      "cell_type": "code",
      "source": [
        "print(ratings)"
      ],
      "execution_count": 61,
      "outputs": [
        {
          "output_type": "stream",
          "text": [
            "[2, 3, 4, 4]\n"
          ],
          "name": "stdout"
        }
      ]
    },
    {
      "metadata": {
        "id": "lZ7xJlNaGw7a",
        "colab_type": "code",
        "colab": {
          "base_uri": "https://localhost:8080/",
          "height": 34
        },
        "outputId": "c9424064-3260-4c49-8200-42835583f6e3"
      },
      "cell_type": "code",
      "source": [
        "user_choices=[]\n",
        "\n",
        "type=['Furnished','Semi-Furnished','Unfurnished']\n",
        "\n",
        "#specifying the locations where available\n",
        "location = ['Amanora Park Town','Magarpatta City','Hadapsar','Mundhwa']\n",
        "\n",
        "#specifying the size of\n",
        "size=['1BHK','2BHK','3BHK']\n",
        "\n",
        "user_choices=[np.random.randint(7000,150000),random.choice(location),random.choice(type),random.choice(size)]\n",
        "\n",
        "user_choices"
      ],
      "execution_count": 62,
      "outputs": [
        {
          "output_type": "execute_result",
          "data": {
            "text/plain": [
              "[75964, 'Hadapsar', 'Unfurnished', '2BHK']"
            ]
          },
          "metadata": {
            "tags": []
          },
          "execution_count": 62
        }
      ]
    },
    {
      "metadata": {
        "id": "LSboITrfg9si",
        "colab_type": "code",
        "colab": {}
      },
      "cell_type": "code",
      "source": [
        "most_imp=max(ratings)"
      ],
      "execution_count": 0,
      "outputs": []
    },
    {
      "metadata": {
        "id": "bEfrSYwbhMnH",
        "colab_type": "code",
        "outputId": "cd385f43-4cd6-44d8-9a10-216e1f630804",
        "colab": {
          "base_uri": "https://localhost:8080/",
          "height": 34
        }
      },
      "cell_type": "code",
      "source": [
        "print(most_imp)"
      ],
      "execution_count": 71,
      "outputs": [
        {
          "output_type": "stream",
          "text": [
            "4\n"
          ],
          "name": "stdout"
        }
      ]
    },
    {
      "metadata": {
        "id": "Td_yOMpZEfpH",
        "colab_type": "code",
        "outputId": "e56261f1-75b4-4afc-f739-0f6de8ae178b",
        "colab": {
          "base_uri": "https://localhost:8080/",
          "height": 34
        }
      },
      "cell_type": "code",
      "source": [
        "idx=ratings.index(most_imp)\n",
        "print(idx)"
      ],
      "execution_count": 72,
      "outputs": [
        {
          "output_type": "stream",
          "text": [
            "3\n"
          ],
          "name": "stdout"
        }
      ]
    },
    {
      "metadata": {
        "id": "grjwDUxLExR_",
        "colab_type": "code",
        "colab": {
          "base_uri": "https://localhost:8080/",
          "height": 34
        },
        "outputId": "1ef6bbd4-59d8-4d30-c7ef-1b2e3b90e003"
      },
      "cell_type": "code",
      "source": [
        "recommended=[]\n",
        "print(user_choices)\n",
        "\n",
        "if(most_imp>3 and idx!=1):\n",
        "  if(len(recommended)==0):\n",
        "    for i in range(0,30):\n",
        "      recommend=available_choice[i]\n",
        "      #print(user_choices[idx])\n",
        "      #print(recommend[idx])\n",
        "     \n",
        "      if(user_choices[idx]==recommend[idx]):\n",
        "        recommended.append(recommend)\n",
        "       \n",
        "        \n",
        "\n",
        "        \n",
        "else:\n",
        "  for i in range(0,30):\n",
        "      recommend=[available_choice[i]]\n",
        "      if(most_imp>3 and idx!=1):\n",
        "        if(user_choices[idx]!=recommend[idx]):\n",
        "          recommended.remove[recommend]\n",
        "  \n",
        "      \n",
        "  "
      ],
      "execution_count": 73,
      "outputs": [
        {
          "output_type": "stream",
          "text": [
            "[75964, 'Hadapsar', 'Unfurnished', '2BHK']\n"
          ],
          "name": "stdout"
        }
      ]
    },
    {
      "metadata": {
        "id": "XjBhSFTuJwDc",
        "colab_type": "code",
        "colab": {
          "base_uri": "https://localhost:8080/",
          "height": 54
        },
        "outputId": "4f683144-91bf-4034-e5ca-4c98eded2f3a"
      },
      "cell_type": "code",
      "source": [
        "print(recommended)"
      ],
      "execution_count": 74,
      "outputs": [
        {
          "output_type": "stream",
          "text": [
            "[['26,000', 'Magarpatta City', 'Unfurnished', '2BHK', 'Bachelors/Family'], ['30,000', 'Magarpatta City', 'Furnished', '2BHK', 'Bachelors/Family'], ['20,000', 'Mundhwa', 'Furnished', '2BHK', 'Family'], ['22,500', 'Amanora Park Town', 'Semi-Furnished', '2BHK', 'Bachelors/Family'], ['36,000', 'Amanora Park Town', 'Furnished', '2BHK', 'Bachelors/Family'], ['16,200', 'Hadapsar', 'Unfurnished', '2BHK', 'Bachelors/Family'], ['22,000', 'Hadapsar', 'Unfurnished', '2BHK', 'Bachelors/Family'], ['25,000', 'Amanora Park Town', 'Semi-Furnished', '2BHK', 'Bachelors'], ['28,000', 'Hadapsar', 'Unfurnished', '2BHK', 'Bachelors/Family'], ['30,000', 'Hadapsar', 'Semi-Furnished', '2BHK', 'Bachelors/Family'], ['15,000', 'Hadapsar', 'Semi-Furnished', '2BHK', 'Family'], ['13,500', 'Hadapsar', 'Unfurnished', '2BHK', 'Bachelors/Family']]\n"
          ],
          "name": "stdout"
        }
      ]
    },
    {
      "metadata": {
        "id": "hXwCzOC5LOKL",
        "colab_type": "code",
        "colab": {
          "base_uri": "https://localhost:8080/",
          "height": 34
        },
        "outputId": "85c9eca9-8b0c-4852-d4f5-f6e588643d7c"
      },
      "cell_type": "code",
      "source": [
        "ratings[idx]=0\n",
        "most_imp=max(ratings)\n",
        "idx=ratings.index(most_imp)\n",
        "print(idx)\n",
        "\n",
        "\n",
        "if(most_imp>3 and idx!=1):\n",
        "  if(len(recommended)==0):\n",
        "    for i in range(0,30):\n",
        "      recommend=available_choice[i]\n",
        "      if(user_choices[idx]==recommend[idx]):\n",
        "        recommended.append(recommend)\n",
        "       \n",
        "        \n",
        "\n",
        "        \n",
        "else:\n",
        "  for i in range(0,30):\n",
        "      recommend=[available_choice[i]]\n",
        "      if(most_imp>3 and idx!=1):\n",
        "        if(user_choices[idx]!=recommend[idx]):\n",
        "          recommended.remove[recommend]\n"
      ],
      "execution_count": 75,
      "outputs": [
        {
          "output_type": "stream",
          "text": [
            "1\n"
          ],
          "name": "stdout"
        }
      ]
    },
    {
      "metadata": {
        "id": "c6IfS70yPe1F",
        "colab_type": "code",
        "colab": {
          "base_uri": "https://localhost:8080/",
          "height": 221
        },
        "outputId": "3ae6b0b9-a7e8-4a60-f284-5183afb2cc32"
      },
      "cell_type": "code",
      "source": [
        "recommended"
      ],
      "execution_count": 76,
      "outputs": [
        {
          "output_type": "execute_result",
          "data": {
            "text/plain": [
              "[['26,000', 'Magarpatta City', 'Unfurnished', '2BHK', 'Bachelors/Family'],\n",
              " ['30,000', 'Magarpatta City', 'Furnished', '2BHK', 'Bachelors/Family'],\n",
              " ['20,000', 'Mundhwa', 'Furnished', '2BHK', 'Family'],\n",
              " ['22,500', 'Amanora Park Town', 'Semi-Furnished', '2BHK', 'Bachelors/Family'],\n",
              " ['36,000', 'Amanora Park Town', 'Furnished', '2BHK', 'Bachelors/Family'],\n",
              " ['16,200', 'Hadapsar', 'Unfurnished', '2BHK', 'Bachelors/Family'],\n",
              " ['22,000', 'Hadapsar', 'Unfurnished', '2BHK', 'Bachelors/Family'],\n",
              " ['25,000', 'Amanora Park Town', 'Semi-Furnished', '2BHK', 'Bachelors'],\n",
              " ['28,000', 'Hadapsar', 'Unfurnished', '2BHK', 'Bachelors/Family'],\n",
              " ['30,000', 'Hadapsar', 'Semi-Furnished', '2BHK', 'Bachelors/Family'],\n",
              " ['15,000', 'Hadapsar', 'Semi-Furnished', '2BHK', 'Family'],\n",
              " ['13,500', 'Hadapsar', 'Unfurnished', '2BHK', 'Bachelors/Family']]"
            ]
          },
          "metadata": {
            "tags": []
          },
          "execution_count": 76
        }
      ]
    },
    {
      "metadata": {
        "id": "8PRvxwH9PhpY",
        "colab_type": "code",
        "colab": {
          "base_uri": "https://localhost:8080/",
          "height": 34
        },
        "outputId": "498833bc-8477-4235-8816-9c499763b8b2"
      },
      "cell_type": "code",
      "source": [
        "ratings[idx]=0\n",
        "most_imp=max(ratings)\n",
        "idx=ratings.index(most_imp)\n",
        "print(idx)\n",
        "\n",
        "\n",
        "if(most_imp>3 and idx!=1):\n",
        "  if(len(recommended)==0):\n",
        "    for i in range(0,30):\n",
        "      recommend=available_choice[i]\n",
        "      if(user_choices[idx]==recommend[idx]):\n",
        "        recommended.append(recommend)\n",
        "       \n",
        "        \n",
        "\n",
        "        \n",
        "else:\n",
        "  for i in range(0,30):\n",
        "      recommend=[available_choice[i]]\n",
        "      if(most_imp>3 and idx!=1):\n",
        "        if(user_choices[idx]!=recommend[idx]):\n",
        "          recommended.remove[recommend]\n"
      ],
      "execution_count": 77,
      "outputs": [
        {
          "output_type": "stream",
          "text": [
            "0\n"
          ],
          "name": "stdout"
        }
      ]
    },
    {
      "metadata": {
        "id": "2T4om2sTPtpE",
        "colab_type": "code",
        "colab": {
          "base_uri": "https://localhost:8080/",
          "height": 221
        },
        "outputId": "f9844e02-a09d-49bb-d2ea-b9756e7dcf64"
      },
      "cell_type": "code",
      "source": [
        "recommended"
      ],
      "execution_count": 78,
      "outputs": [
        {
          "output_type": "execute_result",
          "data": {
            "text/plain": [
              "[['26,000', 'Magarpatta City', 'Unfurnished', '2BHK', 'Bachelors/Family'],\n",
              " ['30,000', 'Magarpatta City', 'Furnished', '2BHK', 'Bachelors/Family'],\n",
              " ['20,000', 'Mundhwa', 'Furnished', '2BHK', 'Family'],\n",
              " ['22,500', 'Amanora Park Town', 'Semi-Furnished', '2BHK', 'Bachelors/Family'],\n",
              " ['36,000', 'Amanora Park Town', 'Furnished', '2BHK', 'Bachelors/Family'],\n",
              " ['16,200', 'Hadapsar', 'Unfurnished', '2BHK', 'Bachelors/Family'],\n",
              " ['22,000', 'Hadapsar', 'Unfurnished', '2BHK', 'Bachelors/Family'],\n",
              " ['25,000', 'Amanora Park Town', 'Semi-Furnished', '2BHK', 'Bachelors'],\n",
              " ['28,000', 'Hadapsar', 'Unfurnished', '2BHK', 'Bachelors/Family'],\n",
              " ['30,000', 'Hadapsar', 'Semi-Furnished', '2BHK', 'Bachelors/Family'],\n",
              " ['15,000', 'Hadapsar', 'Semi-Furnished', '2BHK', 'Family'],\n",
              " ['13,500', 'Hadapsar', 'Unfurnished', '2BHK', 'Bachelors/Family']]"
            ]
          },
          "metadata": {
            "tags": []
          },
          "execution_count": 78
        }
      ]
    },
    {
      "metadata": {
        "id": "GPs9D8z4QMtC",
        "colab_type": "code",
        "colab": {}
      },
      "cell_type": "code",
      "source": [
        ""
      ],
      "execution_count": 0,
      "outputs": []
    }
  ]
}